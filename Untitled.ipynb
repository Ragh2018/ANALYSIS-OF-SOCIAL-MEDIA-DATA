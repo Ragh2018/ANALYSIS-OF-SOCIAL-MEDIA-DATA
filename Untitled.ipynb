{
 "cells": [
  {
   "cell_type": "code",
   "execution_count": 8,
   "metadata": {},
   "outputs": [],
   "source": [
    "import json\n",
    "import pandas as pd\n",
    "\n",
    "\n",
    "with open('angry.json') as data_file:\n",
    "    data = json.load(data_file)\n",
    "\n",
    "\n",
    "list_tweets = []\n",
    "for i in range(len(data)):\n",
    "    list_tweets.append(data[i][\"text\"])\n",
    "\n",
    "\n",
    "df = pd.DataFrame(list_tweets, columns=[\"tweets\"])\n",
    "df.to_csv('angry.csv', index=False)\n"
   ]
  },
  {
   "cell_type": "code",
   "execution_count": null,
   "metadata": {},
   "outputs": [],
   "source": []
  }
 ],
 "metadata": {
  "kernelspec": {
   "display_name": "Python 3",
   "language": "python",
   "name": "python3"
  },
  "language_info": {
   "codemirror_mode": {
    "name": "ipython",
    "version": 3
   },
   "file_extension": ".py",
   "mimetype": "text/x-python",
   "name": "python",
   "nbconvert_exporter": "python",
   "pygments_lexer": "ipython3",
   "version": "3.6.1"
  }
 },
 "nbformat": 4,
 "nbformat_minor": 2
}
